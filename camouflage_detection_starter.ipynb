# Camouflage Detection Starter Notebook

## 1. Imports
import torch
from ultralytics import YOLO
import cv2
import matplotlib.pyplot as plt
import numpy as np

## 2. Load Model
model = YOLO('yolov8n.pt')  # replace with trained weights if available

## 3. Load Sample Image
img_path = 'data/sample_images/camouflage_1.jpg'
img = cv2.imread(img_path)
img_rgb = cv2.cvtColor(img, cv2.COLOR_BGR2RGB)

## 4. Inference
results = model(img_path)
results.print()
results.show()

## 5. Display Image
plt.imshow(img_rgb)
plt.title("Camouflaged Object Detection")
plt.axis('off')
plt.show()
